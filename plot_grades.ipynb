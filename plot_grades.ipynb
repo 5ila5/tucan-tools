{
 "cells": [
  {
   "cell_type": "markdown",
   "metadata": {},
   "source": [
    "# Plot grades"
   ]
  },
  {
   "cell_type": "code",
   "execution_count": null,
   "metadata": {},
   "outputs": [],
   "source": [
    "%matplotlib inline\n",
    "\n",
    "from glob import glob\n",
    "import pandas as pd\n",
    "import matplotlib.pyplot as plt\n",
    "\n",
    "plt.rcParams['figure.figsize'] = [12, 6]\n",
    "\n",
    "def get_last_grades(grades_path = 'grades'):\n",
    "    files = sorted(glob(grades_path + '/*.txt'))\n",
    "    if not len(files):\n",
    "        return ''\n",
    "\n",
    "    with open(files[-1]) as f:\n",
    "        return [[y.strip() for y in x.split('\\t\\t') ]for x in f.readlines()]\n",
    "\n",
    "df = pd.DataFrame(get_last_grades(), columns = ['grade', 'date', 'title']).set_index('title')\n",
    "df['grade'] = pd.to_numeric(df.grade)\n",
    "df['date'] = pd.to_datetime(df.date)\n",
    "\n",
    "df.plot(x='date', y='grade', style=\".\")"
   ]
  }
 ],
 "metadata": {
  "kernelspec": {
   "display_name": "Python 3",
   "language": "python",
   "name": "python3"
  },
  "language_info": {
   "codemirror_mode": {
    "name": "ipython",
    "version": 3
   },
   "file_extension": ".py",
   "mimetype": "text/x-python",
   "name": "python",
   "nbconvert_exporter": "python",
   "pygments_lexer": "ipython3",
   "version": "3.6.5"
  }
 },
 "nbformat": 4,
 "nbformat_minor": 2
}
